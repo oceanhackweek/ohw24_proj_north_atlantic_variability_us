{
 "cells": [
  {
   "cell_type": "code",
   "execution_count": null,
   "id": "ff8e4a89-260a-4511-87c5-9bb413aa3680",
   "metadata": {},
   "outputs": [],
   "source": [
    "# Imports and Dependents"
   ]
  }
 ],
 "metadata": {
  "kernelspec": {
   "display_name": "Python 3 (ipykernel)",
   "language": "python",
   "name": "python3"
  },
  "language_info": {
   "codemirror_mode": {
    "name": "ipython",
    "version": 3
   },
   "file_extension": ".py",
   "mimetype": "text/x-python",
   "name": "python",
   "nbconvert_exporter": "python",
   "pygments_lexer": "ipython3",
   "version": "3.12.4"
  }
 },
 "nbformat": 4,
 "nbformat_minor": 5
}
