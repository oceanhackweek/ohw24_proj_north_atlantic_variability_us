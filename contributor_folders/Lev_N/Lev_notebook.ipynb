{
 "cells": [
  {
   "cell_type": "code",
   "execution_count": 1,
   "id": "4135e92e-f4b6-4c6f-a4be-d448d4143e1a",
   "metadata": {},
   "outputs": [],
   "source": [
    "import argopy\n",
    "import numpy as np\n",
    "import xarray as xr\n",
    "import pandas as pd\n",
    "import matplotlib.pyplot as plt\n",
    "from erddapy import ERDDAP\n",
    "import datetime as dt"
   ]
  },
  {
   "cell_type": "code",
   "execution_count": 2,
   "id": "0284df0e-6096-497e-806a-f55cbd81f328",
   "metadata": {},
   "outputs": [
    {
     "name": "stdout",
     "output_type": "stream",
     "text": [
      "2023\n"
     ]
    }
   ],
   "source": [
    "# Get the ARGO data via ERDDAP (loop from 1997 to 2023)\n",
    "\n",
    "sst_yrs = {}\n",
    "\n",
    "for year in np.arange(2023,2024):\n",
    "    print(year)\n",
    "    e = ERDDAP(\n",
    "        server=\"https://www.ifremer.fr/erddap\",\n",
    "        protocol=\"tabledap\"\n",
    "    )\n",
    "    \n",
    "    e.response = \"csv\"\n",
    "    e.dataset_id = \"ArgoFloats\"\n",
    "    e.constraints = {\n",
    "        \"time>=\": f\"{year}-01-01T00:00:00Z\",\n",
    "        \"time<=\": f\"{year}-12-31T00:00:00Z\",\n",
    "        \"latitude>=\": 0,\n",
    "        \"latitude<=\": 90,\n",
    "        \"longitude>=\": -99,\n",
    "        \"longitude<=\": 13,\n",
    "    }\n",
    "    e.variables = [\n",
    "        \"time\", \"latitude\", \"longitude\", \"temp\", \"pres\"\n",
    "    ]\n",
    "    \n",
    "    df = e.to_pandas()\n",
    "    df = df.rename(columns={'time (UTC)': 'time',\n",
    "           'latitude (degrees_north)': 'latitude',\n",
    "           'longitude (degrees_east)': 'longitude',\n",
    "           'temp (degree_Celsius)': 'temp',\n",
    "           'pres (decibar)': 'pres'})\n",
    "    sst = df[df.pres <= 10]\n",
    "    sst.loc[:,'time'] = sst.time.apply(lambda x: dt.datetime.strptime(x, \"%Y-%m-%dT%H:%M:%SZ\").date())\n",
    "    sst = sst.drop(columns='pres')\n",
    "    sst_yrs[str(year)] = sst.set_index('time')\n",
    "    sst_yrs[str(year)].to_csv(f'../../data/argo_{year}.csv',)"
   ]
  },
  {
   "cell_type": "code",
   "execution_count": null,
   "id": "0f4c50f1-76a5-45e0-911e-dc1147228a42",
   "metadata": {},
   "outputs": [],
   "source": []
  },
  {
   "cell_type": "code",
   "execution_count": null,
   "id": "31b4f12d-b2fa-42f5-8412-bc9d7b5a36a2",
   "metadata": {},
   "outputs": [],
   "source": []
  },
  {
   "cell_type": "code",
   "execution_count": null,
   "id": "6cd2ee3e-e4dd-4e41-9f01-3daf65d97af6",
   "metadata": {},
   "outputs": [],
   "source": []
  }
 ],
 "metadata": {
  "kernelspec": {
   "display_name": "Pixi - Python 3 (ipykernel)",
   "language": "python",
   "name": "pixi-kernel-python3"
  },
  "language_info": {
   "codemirror_mode": {
    "name": "ipython",
    "version": 3
   },
   "file_extension": ".py",
   "mimetype": "text/x-python",
   "name": "python",
   "nbconvert_exporter": "python",
   "pygments_lexer": "ipython3",
   "version": "3.12.4"
  }
 },
 "nbformat": 4,
 "nbformat_minor": 5
}
