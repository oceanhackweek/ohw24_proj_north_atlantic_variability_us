{
 "cells": [
  {
   "cell_type": "markdown",
   "id": "5286037a-4d08-430a-8715-4170c9141c6d",
   "metadata": {},
   "source": [
    "# pyncei Stuff (old?)"
   ]
  },
  {
   "cell_type": "code",
   "execution_count": 3,
   "id": "ff8e4a89-260a-4511-87c5-9bb413aa3680",
   "metadata": {},
   "outputs": [
    {
     "name": "stdout",
     "output_type": "stream",
     "text": [
      "Collecting pyncei\n",
      "  Downloading pyncei-1.0-py3-none-any.whl.metadata (1.1 kB)\n",
      "Requirement already satisfied: pandas in /home/.pixi/envs/default/lib/python3.12/site-packages (from pyncei) (2.2.2)\n",
      "Requirement already satisfied: requests in /home/.pixi/envs/default/lib/python3.12/site-packages (from pyncei) (2.32.3)\n",
      "Collecting requests-cache (from pyncei)\n",
      "  Downloading requests_cache-1.2.1-py3-none-any.whl.metadata (9.9 kB)\n",
      "Requirement already satisfied: numpy>=1.26.0 in /home/.pixi/envs/default/lib/python3.12/site-packages (from pandas->pyncei) (2.0.1)\n",
      "Requirement already satisfied: python-dateutil>=2.8.2 in /home/.pixi/envs/default/lib/python3.12/site-packages (from pandas->pyncei) (2.9.0)\n",
      "Requirement already satisfied: pytz>=2020.1 in /home/.pixi/envs/default/lib/python3.12/site-packages (from pandas->pyncei) (2024.1)\n",
      "Requirement already satisfied: tzdata>=2022.7 in /home/.pixi/envs/default/lib/python3.12/site-packages (from pandas->pyncei) (2024.1)\n",
      "Requirement already satisfied: charset-normalizer<4,>=2 in /home/.pixi/envs/default/lib/python3.12/site-packages (from requests->pyncei) (3.3.2)\n",
      "Requirement already satisfied: idna<4,>=2.5 in /home/.pixi/envs/default/lib/python3.12/site-packages (from requests->pyncei) (3.7)\n",
      "Requirement already satisfied: urllib3<3,>=1.21.1 in /home/.pixi/envs/default/lib/python3.12/site-packages (from requests->pyncei) (1.26.19)\n",
      "Requirement already satisfied: certifi>=2017.4.17 in /home/.pixi/envs/default/lib/python3.12/site-packages (from requests->pyncei) (2024.7.4)\n",
      "Requirement already satisfied: attrs>=21.2 in /home/.pixi/envs/default/lib/python3.12/site-packages (from requests-cache->pyncei) (23.2.0)\n",
      "Collecting cattrs>=22.2 (from requests-cache->pyncei)\n",
      "  Downloading cattrs-23.2.3-py3-none-any.whl.metadata (10 kB)\n",
      "Requirement already satisfied: platformdirs>=2.5 in /home/.pixi/envs/default/lib/python3.12/site-packages (from requests-cache->pyncei) (4.2.2)\n",
      "Collecting url-normalize>=1.4 (from requests-cache->pyncei)\n",
      "  Downloading url_normalize-1.4.3-py2.py3-none-any.whl.metadata (3.1 kB)\n",
      "Requirement already satisfied: six>=1.5 in /home/.pixi/envs/default/lib/python3.12/site-packages (from python-dateutil>=2.8.2->pandas->pyncei) (1.16.0)\n",
      "Downloading pyncei-1.0-py3-none-any.whl (381 kB)\n",
      "Downloading requests_cache-1.2.1-py3-none-any.whl (61 kB)\n",
      "Downloading cattrs-23.2.3-py3-none-any.whl (57 kB)\n",
      "Downloading url_normalize-1.4.3-py2.py3-none-any.whl (6.8 kB)\n",
      "Installing collected packages: url-normalize, cattrs, requests-cache, pyncei\n",
      "Successfully installed cattrs-23.2.3 pyncei-1.0 requests-cache-1.2.1 url-normalize-1.4.3\n"
     ]
    }
   ],
   "source": [
    "# Install pyncei to access NOAA NCEI Data (Run Once)\n",
    "\n",
    "#!pip install pyncei"
   ]
  },
  {
   "cell_type": "code",
   "execution_count": 2,
   "id": "10a4e66b-b75b-4cef-8dc9-9572d7bf6946",
   "metadata": {},
   "outputs": [],
   "source": [
    "# Imports\n",
    "\n",
    "# pyncei Documentation https://github.com/adamancer/pyncei/blob/main/README.md \n",
    "import pyncei\n",
    "from pyncei import NCEIBot "
   ]
  },
  {
   "cell_type": "code",
   "execution_count": 3,
   "id": "98e1af11-b361-4474-9c4f-bd0aa5ed7e9b",
   "metadata": {},
   "outputs": [],
   "source": [
    "# Load ERSST Data w/ pyncei\n",
    "\n",
    "token = 'aOaQIszTOnMFGhsUjsPdFyHCOYqGGeVF'\n",
    "ncei = NCEIBot(token)"
   ]
  },
  {
   "cell_type": "code",
   "execution_count": null,
   "id": "93ec78a2-04bf-4408-84c0-6d029ec7f58c",
   "metadata": {},
   "outputs": [],
   "source": []
  }
 ],
 "metadata": {
  "kernelspec": {
   "display_name": "Pixi - Python 3 (ipykernel)",
   "language": "python",
   "name": "pixi-kernel-python3"
  },
  "language_info": {
   "codemirror_mode": {
    "name": "ipython",
    "version": 3
   },
   "file_extension": ".py",
   "mimetype": "text/x-python",
   "name": "python",
   "nbconvert_exporter": "python",
   "pygments_lexer": "ipython3",
   "version": "3.12.4"
  }
 },
 "nbformat": 4,
 "nbformat_minor": 5
}
