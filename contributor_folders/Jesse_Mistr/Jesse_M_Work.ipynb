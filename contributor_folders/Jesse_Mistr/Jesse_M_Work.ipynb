{
 "cells": [
  {
   "cell_type": "markdown",
   "id": "c8715cb2-542c-4269-8eae-573a693369fa",
   "metadata": {},
   "source": [
    "# Sea Surface Temperature since 1854"
   ]
  },
  {
   "cell_type": "code",
   "execution_count": null,
   "id": "c285b752-eb44-49ed-9386-46b9d72fc47c",
   "metadata": {},
   "outputs": [],
   "source": [
    "# Imports\n",
    "\n",
    "import xarray as xr\n",
    "\n",
    "import geoviews as gv\n",
    "import geoviews.feature aSs gf\n",
    "\n",
    "from geoviews import opts\n",
    "from cartopy import crs\n",
    "\n",
    "gv.extension('bokeh', 'matplotlib')\n",
    "\n",
    "import datetime\n",
    "from datetime import dat"
   ]
  },
  {
   "cell_type": "code",
   "execution_count": null,
   "id": "98e1af11-b361-4474-9c4f-bd0aa5ed7e9b",
   "metadata": {},
   "outputs": [],
   "source": [
    "# Get ERSST dataset\n",
    "data_url = 'https://psl.noaa.gov/thredds/dodsC/Datasets/noaa.ersst.v5/sst.mnmean.nc'\n",
    "sst = xr.open_dataset(data_url).load()"
   ]
  },
  {
   "cell_type": "code",
   "execution_count": null,
   "id": "044f0c64-487c-4a92-ba10-a050eeac1e20",
   "metadata": {
    "scrolled": true
   },
   "outputs": [],
   "source": [
    "# Use to display xarray\n",
    "sst"
   ]
  },
  {
   "cell_type": "code",
   "execution_count": null,
   "id": "8861b494-cdff-4d36-b258-2241d5ce60d7",
   "metadata": {},
   "outputs": [],
   "source": [
    "# convert lon coordinates from 0:360 to -180:180\n",
    "sst.coords['lon'] = (sst.coords['lon'] + 180) % 360 - 180\n",
    "sst = sst.sortby(sst.lon)\n",
    "sst"
   ]
  },
  {
   "cell_type": "code",
   "execution_count": null,
   "id": "e2354de7-ecd7-4080-a817-27f08cc25792",
   "metadata": {},
   "outputs": [],
   "source": [
    "# Seperate data into seasons\n",
    "\n",
    "#pseudo code\n",
    "\"\"\"\n",
    "    if [sst['time'] has month [1, 2, 12]]:\n",
    "        avg sst.sst in these months\n",
    "        add new dp to sst_win\n",
    "    else if [sst['time'] has month [3, 4, 5]]\n",
    "        avg sst.sst in these months\n",
    "        add to sst_spr\n",
    "    else if [sst['time'] has month [6, 7, 8]]\n",
    "        avg sst.sst in these months\n",
    "        add to sst_sum\n",
    "    else\n",
    "        avg sst.sst in months [9, 10, 11]\n",
    "        add to sst_fal\n",
    "\"\"\"\n",
    "sst_seasonal = sst.resample(time='3ME').mean()\n",
    "sst_seasonal"
   ]
  },
  {
   "cell_type": "code",
   "execution_count": null,
   "id": "d2ae6ef7-8c6c-4387-8e41-9524cb090ca4",
   "metadata": {},
   "outputs": [],
   "source": [
    "# Select North Atlantic Region\n",
    "# Note -- Lat [-90:90] Lon [0:360]\n",
    "na_sst = sst_seasonal.sel(lon=slice(-98,12), lat=slice(90,0))\n",
    "na_sst"
   ]
  },
  {
   "cell_type": "code",
   "execution_count": null,
   "id": "2b8859b0-fd88-45db-a82b-df3f55175e20",
   "metadata": {},
   "outputs": [],
   "source": [
    "# Create dataset\n",
    "plt_sst = gv.Dataset(na_sst)\n",
    "\n",
    "ensemble = plt_sst.to(gv.Image, ['lon', 'lat'], 'sst')\n",
    "\n",
    "#\n",
    "gv.output(ensemble.opts(cmap='viridis', colorbar=True, fig_size=120, backend='matplotlib') * gf.coastline(),\n",
    "          backend='matplotlib', max_frames=700)"
   ]
  }
 ],
 "metadata": {
  "kernelspec": {
   "display_name": "Pixi - Python 3 (ipykernel)",
   "language": "python",
   "name": "pixi-kernel-python3"
  },
  "language_info": {
   "codemirror_mode": {
    "name": "ipython",
    "version": 3
   },
   "file_extension": ".py",
   "mimetype": "text/x-python",
   "name": "python",
   "nbconvert_exporter": "python",
   "pygments_lexer": "ipython3",
   "version": "3.12.4"
  }
 },
 "nbformat": 4,
 "nbformat_minor": 5
}
