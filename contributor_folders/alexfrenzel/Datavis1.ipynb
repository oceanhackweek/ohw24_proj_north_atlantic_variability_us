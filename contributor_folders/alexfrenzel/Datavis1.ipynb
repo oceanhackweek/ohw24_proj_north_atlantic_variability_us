{
 "cells": [
  {
   "cell_type": "markdown",
   "id": "418c0675-61fe-46f9-aba1-7db9ff0c91f4",
   "metadata": {},
   "source": [
    "Getting data using xarray from ERSST\n"
   ]
  },
  {
   "cell_type": "code",
   "execution_count": null,
   "id": "ced42458-1073-4cc4-af09-1f20d268aba5",
   "metadata": {},
   "outputs": [],
   "source": []
  }
 ],
 "metadata": {
  "kernelspec": {
   "display_name": "Python 3 (ipykernel)",
   "language": "python",
   "name": "python3"
  },
  "language_info": {
   "codemirror_mode": {
    "name": "ipython",
    "version": 3
   },
   "file_extension": ".py",
   "mimetype": "text/x-python",
   "name": "python",
   "nbconvert_exporter": "python",
   "pygments_lexer": "ipython3",
   "version": "3.12.4"
  }
 },
 "nbformat": 4,
 "nbformat_minor": 5
}
