{
 "cells": [
  {
   "cell_type": "markdown",
   "id": "c8715cb2-542c-4269-8eae-573a693369fa",
   "metadata": {},
   "source": [
    "# xarray Setup"
   ]
  },
  {
   "cell_type": "code",
   "execution_count": 4,
   "id": "c285b752-eb44-49ed-9386-46b9d72fc47c",
   "metadata": {},
   "outputs": [],
   "source": [
    "# Import\n",
    "\n",
    "import xarray as xr\n"
   ]
  },
  {
   "cell_type": "code",
   "execution_count": 3,
   "id": "98e1af11-b361-4474-9c4f-bd0aa5ed7e9b",
   "metadata": {},
   "outputs": [],
   "source": [
    "# NOAA ncei token\n",
    "token = 'aOaQIszTOnMFGhsUjsPdFyHCOYqGGeVF'\n",
    "\n",
    "# Get ERSST dataset\n",
    "ds = xr.open_dataset(\"../../data/sst.mnmean.nc\", engine=\"netcdf4\")"
   ]
  }
 ],
 "metadata": {
  "kernelspec": {
   "display_name": "Pixi - Python 3 (ipykernel)",
   "language": "python",
   "name": "pixi-kernel-python3"
  },
  "language_info": {
   "codemirror_mode": {
    "name": "ipython",
    "version": 3
   },
   "file_extension": ".py",
   "mimetype": "text/x-python",
   "name": "python",
   "nbconvert_exporter": "python",
   "pygments_lexer": "ipython3",
   "version": "3.12.4"
  }
 },
 "nbformat": 4,
 "nbformat_minor": 5
}
